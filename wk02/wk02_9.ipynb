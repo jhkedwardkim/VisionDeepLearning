{
 "cells": [
  {
   "cell_type": "code",
   "execution_count": 2,
   "metadata": {},
   "outputs": [],
   "source": [
    "import cv2 as cv\n",
    "import sys\n",
    "\n",
    "img =cv.imread('media/soccer.jpg')\n",
    "\n",
    "if img is None:\n",
    "    sys.exit('파일을 찾을 수 없습니다.')\n",
    "\n",
    "BrushSize = 5 # 붓의 크기\n",
    "LColor, RColor = (255,0,0), (0,0,255) # 파란색과 빨간색\n",
    "def painting(event, x, y, flags, param):\n",
    "    if event == cv.EVENT_LBUTTONDOWN:\n",
    "        cv.circle(img, (x,y), BrushSize, LColor, -1) # 마우스 왼쪽 버튼 클릭시 파란색\n",
    "    elif event == cv.EVENT_RBUTTONDOWN:\n",
    "        cv.circle(img, (x,y), BrushSize, RColor, -1) # 마우스 오른쪽 버튼 클릭시 빨간색\n",
    "    elif event == cv.EVENT_MOUSEMOVE and flags == cv.EVENT_FLAG_LBUTTON:\n",
    "        cv.circle(img, (x,y), BrushSize, LColor, -1) # 왼쪽 버튼 클릭하고 이동하면 파란색\n",
    "    elif event == cv.EVENT_MOUSEMOVE and flags == cv.EVENT_FLAG_RBUTTON:\n",
    "        cv.circle(img, (x,y), BrushSize, RColor, -1) # 오른쪽 버튼 클릭하고 이동하면 빨간색\n",
    "  \n",
    "    cv.imshow('Painting', img) # 수정된 영상을 다시 그림\n",
    "\n",
    "cv.namedWindow('Painting')\n",
    "cv.imshow('Painting', img)\n",
    "\n",
    "cv.setMouseCallback('Painting', painting)\n",
    "\n",
    "while(True):\n",
    "    if cv.waitKey(1) == ord('q'):        \n",
    "        cv.destroyAllWindows()\n",
    "        break"
   ]
  },
  {
   "cell_type": "code",
   "execution_count": null,
   "metadata": {},
   "outputs": [],
   "source": []
  }
 ],
 "metadata": {
  "kernelspec": {
   "display_name": "Python ('cv')",
   "language": "python",
   "name": "python3"
  },
  "language_info": {
   "codemirror_mode": {
    "name": "ipython",
    "version": 3
   },
   "file_extension": ".py",
   "mimetype": "text/x-python",
   "name": "python",
   "nbconvert_exporter": "python",
   "pygments_lexer": "ipython3",
   "version": "3.10.6"
  },
  "orig_nbformat": 4,
  "vscode": {
   "interpreter": {
    "hash": "25a19fbe0a9132dfb9279d48d161753c6352f8f9478c2e74383d340069b907c3"
   }
  }
 },
 "nbformat": 4,
 "nbformat_minor": 2
}
