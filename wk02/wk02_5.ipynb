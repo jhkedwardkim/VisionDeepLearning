{
 "cells": [
  {
   "cell_type": "code",
   "execution_count": 1,
   "metadata": {},
   "outputs": [],
   "source": [
    "import cv2 as cv\n",
    "import numpy as np\n",
    "import sys\n",
    "\n",
    "cap = cv.VideoCapture(0, cv.CAP_DSHOW) # 카메라와 연결 시도\n",
    "\n",
    "if not cap.isOpened():\n",
    "    sys.exit('카메라 연결 실패.')\n",
    "\n",
    "frames=[]\n",
    "while True:\n",
    "   ret, frame = cap.read() # 비디오를 구성하는 프레임 흭득\n",
    "\n",
    "   if not ret:\n",
    "        print('프레임 획득에 실패하여 루프를 나갑니다.')\n",
    "        break\n",
    "\n",
    "   cv.imshow('Video display',frame)\n",
    "\n",
    "   key=cv.waitKey(1) # 1밀리초 동안 키보드 입력 기다림\n",
    "   if key==ord('c'):\n",
    "        frames.append(frame) # 'c' 키 입력시 프레임을 리시트에 추가\n",
    "   elif key==ord('q'):  # 'q'키가 들어오면 루프를 빠져나감\n",
    "        break \n",
    "      \n",
    "\n",
    "cap.release() #카메라 연결 끊음\n",
    "cv.destroyAllWindows()\n",
    "\n",
    "if len(frames) >0 :  # 수집된 영상이 있으면\n",
    "    imgs=frames[0]\n",
    "    for i in range(1,min(3,len(frames))):  # 최대 3개까지 어이 붙임\n",
    "        imgs=np.hstack((imgs,frames[i]))\n",
    "\n",
    "    cv.imshow('collected images',imgs)\n",
    "\n",
    "    cv.waitKey()\n",
    "    cv.destroyAllWindows()"
   ]
  },
  {
   "cell_type": "code",
   "execution_count": null,
   "metadata": {},
   "outputs": [],
   "source": []
  }
 ],
 "metadata": {
  "kernelspec": {
   "display_name": "Python ('cv')",
   "language": "python",
   "name": "python3"
  },
  "language_info": {
   "codemirror_mode": {
    "name": "ipython",
    "version": 3
   },
   "file_extension": ".py",
   "mimetype": "text/x-python",
   "name": "python",
   "nbconvert_exporter": "python",
   "pygments_lexer": "ipython3",
   "version": "3.10.9"
  },
  "orig_nbformat": 4,
  "vscode": {
   "interpreter": {
    "hash": "25a19fbe0a9132dfb9279d48d161753c6352f8f9478c2e74383d340069b907c3"
   }
  }
 },
 "nbformat": 4,
 "nbformat_minor": 2
}
