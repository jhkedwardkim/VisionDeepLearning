{
 "cells": [
  {
   "cell_type": "code",
   "execution_count": 1,
   "metadata": {},
   "outputs": [
    {
     "name": "stdout",
     "output_type": "stream",
     "text": [
      "[ 4  5  0  1  2  3  6  7  8  9 10 11]\n",
      "<class 'numpy.ndarray'>\n",
      "(12,)\n",
      "[ 0  1  2  3  4  5  6  7  8  9 10 11]\n",
      "[-4.3  -2.3  -1.2   8.99 10.1  12.9 ]\n",
      "['five' 'four' 'one' 'seven' 'six' 'three' 'two']\n"
     ]
    }
   ],
   "source": [
    "import numpy as np\n",
    "\n",
    "a=np.array([4,5,0,1,2,3,6,7,8,9,10,11])\n",
    "print(a)\n",
    "print(type(a))\n",
    "print(a.shape)\n",
    "a.sort()\n",
    "print(a)\n",
    "\n",
    "b=np.array([-4.3,-2.3,12.9,8.99,10.1,-1.2])\n",
    "b.sort()\n",
    "print(b)\n",
    "\n",
    "c=np.array(['one','two','three','four','five','six','seven'])\n",
    "c.sort()\n",
    "print(c)"
   ]
  },
  {
   "cell_type": "code",
   "execution_count": null,
   "metadata": {},
   "outputs": [],
   "source": []
  }
 ],
 "metadata": {
  "kernelspec": {
   "display_name": "Python ('cv')",
   "language": "python",
   "name": "python3"
  },
  "language_info": {
   "codemirror_mode": {
    "name": "ipython",
    "version": 3
   },
   "file_extension": ".py",
   "mimetype": "text/x-python",
   "name": "python",
   "nbconvert_exporter": "python",
   "pygments_lexer": "ipython3",
   "version": "3.10.6"
  },
  "orig_nbformat": 4,
  "vscode": {
   "interpreter": {
    "hash": "25a19fbe0a9132dfb9279d48d161753c6352f8f9478c2e74383d340069b907c3"
   }
  }
 },
 "nbformat": 4,
 "nbformat_minor": 2
}
