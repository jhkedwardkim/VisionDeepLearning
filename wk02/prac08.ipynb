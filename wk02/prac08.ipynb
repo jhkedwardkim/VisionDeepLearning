{
 "cells": [
  {
   "cell_type": "code",
   "execution_count": 1,
   "metadata": {},
   "outputs": [],
   "source": [
    "import cv2 as cv\n",
    "from math import sqrt, pow \n",
    "import sys\n",
    "\n",
    "img=cv.imread('media/girl_laughing.jpg')\n",
    "\n",
    "if img is None:\n",
    "    sys.exit('파일을 찾을 수 없습니다.')\n",
    "\n",
    "def draw(event,x,y,flags,param):  # 콜백 함수\n",
    "    global ix,iy\n",
    "\n",
    "    if event==cv.EVENT_LBUTTONDOWN: # 마우스 왼쪽 버튼 클릭했을 때 직사각형 그림\n",
    "        cv.rectangle(img,(x,y),(x+200,y+200),(0,0,255),2)\n",
    "    elif event==cv.EVENT_RBUTTONDOWN: # 마우스 오른쪽 버튼 놓았을 때 초기위치 설정\n",
    "        ix,iy=x,y\n",
    "    elif event==cv.EVENT_RBUTTONUP: # 마우스 오른쪽 버튼 놓았을 때 원 그리기\n",
    "        r = int(sqrt(pow(x-ix,2)+pow(y-iy,2)))  # sqrt 루트 pow 제곱 Root((x-ix)^2 + (y-iy)^2) 점과 점의 거리구하는 식\n",
    "        cv.circle(img,(ix,iy),r,(0,0,255),2)\n",
    "\n",
    "    cv.imshow(\"Drawing\",img)\n",
    "\n",
    "cv.namedWindow('Drawing')\n",
    "cv.imshow('Drawing',img)\n",
    "\n",
    "cv.setMouseCallback(\"Drawing\",draw) # Drawing 윈도우에 draw 콜백 함수 지정\n",
    "\n",
    "while(True): # 마우스 이벤트가 언제 발동할지 모르므로 무한반복\n",
    "    if cv.waitKey(1)==ord('q'):\n",
    "        cv.destroyAllWindows()\n",
    "        break\n"
   ]
  },
  {
   "cell_type": "code",
   "execution_count": null,
   "metadata": {},
   "outputs": [],
   "source": []
  }
 ],
 "metadata": {
  "kernelspec": {
   "display_name": "Python 3.10.6 64-bit",
   "language": "python",
   "name": "python3"
  },
  "language_info": {
   "codemirror_mode": {
    "name": "ipython",
    "version": 3
   },
   "file_extension": ".py",
   "mimetype": "text/x-python",
   "name": "python",
   "nbconvert_exporter": "python",
   "pygments_lexer": "ipython3",
   "version": "3.10.6"
  },
  "orig_nbformat": 4,
  "vscode": {
   "interpreter": {
    "hash": "369f2c481f4da34e4445cda3fffd2e751bd1c4d706f27375911949ba6bb62e1c"
   }
  }
 },
 "nbformat": 4,
 "nbformat_minor": 2
}
