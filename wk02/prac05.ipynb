{
 "cells": [
  {
   "cell_type": "code",
   "execution_count": 7,
   "metadata": {},
   "outputs": [],
   "source": [
    "import cv2 as cv\n",
    "import sys\n",
    "\n",
    "frames=[]\n",
    "\n",
    "cap = cv.VideoCapture(0, cv.CAP_DSHOW) # 카메라와 연결 시도\n",
    "gray = False\n",
    "if not cap.isOpened():\n",
    "    sys.exit('카메라 연결 실패.')\n",
    "\n",
    "while True:\n",
    "   ret, frame = cap.read() # 비디오를 구성하는 프레임 흭득\n",
    "   if not ret:\n",
    "        print('프레임 획득에 실패하여 루프를 나갑니다.')\n",
    "        break\n",
    "   if gray :\n",
    "       frame = cv.cvtColor(frame, cv.COLOR_BGR2GRAY)\n",
    "   cv.imshow('Video display',frame)\n",
    "   key=cv.waitKey(1) # 1밀리초 동안 키보드 입력 기다림\n",
    "   if key==ord('q'): # 'q' 키 입력시 루프를 빠져나감\n",
    "      break\n",
    "   elif key == ord('g'): # 'g' 키 입력시 명암\n",
    "       gray = True\n",
    "   elif key == ord('c'): # 'c' 키 입력시 컬러\n",
    "       gray = False\n",
    "\n",
    "cap.release() #카메라 연결 끊음\n",
    "cv.destroyAllWindows()"
   ]
  },
  {
   "cell_type": "code",
   "execution_count": null,
   "metadata": {},
   "outputs": [],
   "source": []
  }
 ],
 "metadata": {
  "kernelspec": {
   "display_name": "Python 3.10.6 64-bit",
   "language": "python",
   "name": "python3"
  },
  "language_info": {
   "codemirror_mode": {
    "name": "ipython",
    "version": 3
   },
   "file_extension": ".py",
   "mimetype": "text/x-python",
   "name": "python",
   "nbconvert_exporter": "python",
   "pygments_lexer": "ipython3",
   "version": "3.10.6"
  },
  "orig_nbformat": 4,
  "vscode": {
   "interpreter": {
    "hash": "369f2c481f4da34e4445cda3fffd2e751bd1c4d706f27375911949ba6bb62e1c"
   }
  }
 },
 "nbformat": 4,
 "nbformat_minor": 2
}
