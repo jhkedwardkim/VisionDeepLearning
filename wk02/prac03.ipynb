{
 "cells": [
  {
   "cell_type": "code",
   "execution_count": 4,
   "metadata": {},
   "outputs": [],
   "source": [
    "import cv2 as cv\n",
    "import sys\n",
    "\n",
    "img1 = cv.imread('media/soccer.jpg')\n",
    "if img1 is None:\n",
    "    sys.exit('첫 번째 파일을 찾을 수 없습니다.')\n",
    "\n",
    "img2 = cv.imread('media/every2.jpg')\n",
    "if img2 is None:\n",
    "    sys.exit('두 번째 파일을 찾을 수 없습니다.')\n",
    "\n",
    "cv.imshow('Image 1 Display', img1)\n",
    "cv.imshow('Image 2 Display', img2)\n",
    "\n",
    "cv.waitKey()\n",
    "cv.destroyAllWindows()"
   ]
  },
  {
   "cell_type": "code",
   "execution_count": null,
   "metadata": {},
   "outputs": [],
   "source": []
  }
 ],
 "metadata": {
  "kernelspec": {
   "display_name": "Python ('cv')",
   "language": "python",
   "name": "python3"
  },
  "language_info": {
   "codemirror_mode": {
    "name": "ipython",
    "version": 3
   },
   "file_extension": ".py",
   "mimetype": "text/x-python",
   "name": "python",
   "nbconvert_exporter": "python",
   "pygments_lexer": "ipython3",
   "version": "3.10.9"
  },
  "orig_nbformat": 4,
  "vscode": {
   "interpreter": {
    "hash": "25a19fbe0a9132dfb9279d48d161753c6352f8f9478c2e74383d340069b907c3"
   }
  }
 },
 "nbformat": 4,
 "nbformat_minor": 2
}
