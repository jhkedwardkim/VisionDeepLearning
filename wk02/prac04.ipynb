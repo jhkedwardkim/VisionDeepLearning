{
 "cells": [
  {
   "cell_type": "code",
   "execution_count": 20,
   "metadata": {},
   "outputs": [],
   "source": [
    "import cv2 as cv\n",
    "import sys\n",
    "img=cv.imread('media/soccer.jpg')\n",
    "\n",
    "if img is None:\n",
    "  sys.exit('파일을 찾을 수 없습니다.')\n",
    "\n",
    "gray_small1=cv.resize(img,dsize=(0,0),fx=0.1,fy=0.1)\n",
    "gray_small2=cv.resize(img,dsize=(0,0),fx=0.2,fy=0.2)\n",
    "\n",
    "gray_small3=cv.resize(img,dsize=(0,0),fx=0.3,fy=0.3)\n",
    "gray_small4=cv.resize(img,dsize=(0,0),fx=0.4,fy=0.4)\n",
    "\n",
    "gray_small5=cv.resize(img,dsize=(0,0),fx=0.5,fy=0.5)\n",
    "gray_small6=cv.resize(img,dsize=(0,0),fx=0.6,fy=0.6)\n",
    "\n",
    "gray_small7=cv.resize(img,dsize=(0,0),fx=0.7,fy=0.7)\n",
    "gray_small8=cv.resize(img,dsize=(0,0),fx=0.8,fy=0.8)\n",
    "\n",
    "gray_small9=cv.resize(img,dsize=(0,0),fx=0.9,fy=0.9)\n",
    "gray_small10=cv.resize(img,dsize=(0,0),fx=1.0,fy=1.0)\n",
    "\n",
    "cv.imwrite('soccer_gray_small.jpg',gray_small1)\n",
    "\n",
    "cv.imshow('Gray image small1',gray_small1)\n",
    "cv.imshow('Gray image small2',gray_small2)\n",
    "cv.imshow('Gray image small3',gray_small3)\n",
    "cv.imshow('Gray image smal4l',gray_small4)\n",
    "cv.imshow('Gray image small5',gray_small5)\n",
    "cv.imshow('Gray image small6',gray_small6)\n",
    "cv.imshow('Gray image smal3l',gray_small7)\n",
    "cv.imshow('Gray image smal5l',gray_small8)\n",
    "cv.imshow('Gray image smal55l',gray_small9)\n",
    "cv.imshow('Gray image smal111l',gray_small10)\n",
    "\n",
    "cv.waitKey()\n",
    "cv.destroyAllWindows()"
   ]
  },
  {
   "cell_type": "code",
   "execution_count": null,
   "metadata": {},
   "outputs": [],
   "source": []
  },
  {
   "cell_type": "code",
   "execution_count": null,
   "metadata": {},
   "outputs": [],
   "source": []
  }
 ],
 "metadata": {
  "kernelspec": {
   "display_name": "Python ('cv')",
   "language": "python",
   "name": "python3"
  },
  "language_info": {
   "codemirror_mode": {
    "name": "ipython",
    "version": 3
   },
   "file_extension": ".py",
   "mimetype": "text/x-python",
   "name": "python",
   "nbconvert_exporter": "python",
   "pygments_lexer": "ipython3",
   "version": "3.10.9"
  },
  "orig_nbformat": 4,
  "vscode": {
   "interpreter": {
    "hash": "25a19fbe0a9132dfb9279d48d161753c6352f8f9478c2e74383d340069b907c3"
   }
  }
 },
 "nbformat": 4,
 "nbformat_minor": 2
}
