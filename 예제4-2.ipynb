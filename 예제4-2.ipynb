{
 "cells": [
  {
   "cell_type": "code",
   "execution_count": 5,
   "id": "779e3cf7",
   "metadata": {},
   "outputs": [],
   "source": [
    "import cv2 as cv\n",
    "import sys"
   ]
  },
  {
   "cell_type": "code",
   "execution_count": 9,
   "id": "890276d4",
   "metadata": {},
   "outputs": [],
   "source": [
    "img=cv.imread('laughing_boy.jpg')\n",
    "\n",
    "if img is None:\n",
    "    sys.exit('파일을 찾을 수 없습니다.')\n",
    "    \n",
    "def draw(event,x,y,flags,param):\n",
    "    global ix,iy\n",
    "    \n",
    "    if event==cv.EVENT_LBUTTONDOWN:\n",
    "        ix,iy=x,y\n",
    "    elif event==cv.EVENT_LBUTTONUP:\n",
    "        cv.rectangle(img,(ix,iy),(x,y),(0,0,255),2)\n",
    "        cv.putText(img,'laugh',(300,30),cv.FONT_HERSHEY_SIMPLEX,1,(255,0,0),2)\n",
    "    cv.imshow('Drawing',img)\n",
    "\n",
    "cv.namedWindow('Drawing')\n",
    "cv.imshow('Drawing',img)\n",
    "\n",
    "cv.setMouseCallback('Drawing',draw)\n",
    "\n",
    "while(True):\n",
    "    if cv.waitKey(1)==ord('q'):\n",
    "        cv.destroyAllWindows()\n",
    "        break"
   ]
  },
  {
   "cell_type": "code",
   "execution_count": null,
   "id": "da3c2f51",
   "metadata": {},
   "outputs": [],
   "source": []
  },
  {
   "cell_type": "code",
   "execution_count": null,
   "id": "356f122c",
   "metadata": {},
   "outputs": [],
   "source": []
  }
 ],
 "metadata": {
  "kernelspec": {
   "display_name": "Python 3 (ipykernel)",
   "language": "python",
   "name": "python3"
  },
  "language_info": {
   "codemirror_mode": {
    "name": "ipython",
    "version": 3
   },
   "file_extension": ".py",
   "mimetype": "text/x-python",
   "name": "python",
   "nbconvert_exporter": "python",
   "pygments_lexer": "ipython3",
   "version": "3.9.12"
  }
 },
 "nbformat": 4,
 "nbformat_minor": 5
}
