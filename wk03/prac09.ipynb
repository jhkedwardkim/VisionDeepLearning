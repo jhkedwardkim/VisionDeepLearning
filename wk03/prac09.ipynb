{
 "cells": [
  {
   "cell_type": "code",
   "execution_count": 1,
   "metadata": {},
   "outputs": [],
   "source": [
    "import cv2 as cv\n",
    "\n",
    "img = cv.imread('media/rose.jfif')\n",
    "\n",
    "def draw(event, x, y, flags, param):  # 콜백 함수 선언\n",
    "    global ix, iy, patch\n",
    "    \n",
    "    if event == cv.EVENT_LBUTTONDOWN: # 왼쪽 버튼을 누를시\n",
    "        ix, iy = x, y\n",
    "        cv.rectangle(img,(ix,iy),(x,y),(0,0,255),2)\n",
    "        cv.imshow('orginal', img)\n",
    "\n",
    "    elif event == cv.EVENT_RBUTTONDOWN: # 오른쪽 버튼을 누를시\n",
    "        rect_coords = (ix, iy, x, y) # 사각형의 최종 좌표를 저장\n",
    "        patch=img[iy:y,ix:x,:] # 원본 이미지에서 선택한 영역을 잘라내서 patch라는 변수에 저장\n",
    "\n",
    "        patch1 = cv.resize(patch, dsize=(0,0), fx=5, fy=5, interpolation=cv.INTER_NEAREST) # patch에 최근접 보간 방법을 적용해서 크기를 조절하고 patch1이라는 변수에 저장\n",
    "        patch2 = cv.resize(patch, dsize=(0,0), fx=5, fy=5, interpolation=cv.INTER_LINEAR) # patch에 선형 보간 방법을 적용해서 크기를 조절하고 patch2라는 변수에 저장\n",
    "        patch3 = cv.resize(patch, dsize=(0,0), fx=5, fy=5, interpolation=cv.INTER_CUBIC) # patch에 삼차 보간 방법을 적용해서 크기를 조절하고 patch3이라는 변수에 저장\n",
    "        cv.imshow('orginal', img)\n",
    "        cv.imshow('Resize nearest', patch1)\n",
    "        cv.imshow('Resize bilinear', patch2)\n",
    "        cv.imshow('Resize bicubic', patch3)\n",
    "\n",
    "cv.namedWindow('orginal')\n",
    "cv.setMouseCallback('orginal', draw)\n",
    "\n",
    "while True:\n",
    "    cv.imshow('orginal', img)\n",
    "    key = cv.waitKey(1)\n",
    "    if key == ord('q'):\n",
    "        break\n",
    "\n",
    "cv.destroyAllWindows()"
   ]
  },
  {
   "cell_type": "code",
   "execution_count": null,
   "metadata": {},
   "outputs": [],
   "source": []
  }
 ],
 "metadata": {
  "kernelspec": {
   "display_name": "Python ('cv')",
   "language": "python",
   "name": "python3"
  },
  "language_info": {
   "codemirror_mode": {
    "name": "ipython",
    "version": 3
   },
   "file_extension": ".py",
   "mimetype": "text/x-python",
   "name": "python",
   "nbconvert_exporter": "python",
   "pygments_lexer": "ipython3",
   "version": "3.10.9"
  },
  "orig_nbformat": 4,
  "vscode": {
   "interpreter": {
    "hash": "25a19fbe0a9132dfb9279d48d161753c6352f8f9478c2e74383d340069b907c3"
   }
  }
 },
 "nbformat": 4,
 "nbformat_minor": 2
}
