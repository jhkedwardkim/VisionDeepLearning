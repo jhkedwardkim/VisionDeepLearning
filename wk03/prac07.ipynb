{
 "cells": [
  {
   "cell_type": "code",
   "execution_count": 1,
   "metadata": {},
   "outputs": [],
   "source": [
    "import cv2 as cv\n",
    "import numpy as np\n",
    "\n",
    "img=cv.imread('media/soccer.jpg')\n",
    "img=cv.resize(img,dsize=(0,0),fx=0.4,fy=0.4)\n",
    "gray=cv.cvtColor(img,cv.COLOR_BGR2GRAY)\n",
    "cv.putText(gray,'soccer',(10,20),cv.FONT_HERSHEY_SIMPLEX,0.7,(255,255,255),2)\n",
    "cv.imshow('orginal',gray)\n",
    "\n",
    "smooth=np.hstack((cv.GaussianBlur(gray,(5,5),0.0),cv.GaussianBlur(gray,(9,9),0.0),cv.GaussianBlur(gray,(15,15),0.0))) # 가우시안 스무딩 적용\n",
    "median=np.hstack((cv.medianBlur(gray,5),cv.medianBlur(gray,9),cv.medianBlur(gray,15))) # 메디안 스무딩 적용\n",
    "cv.imshow('Smooth',smooth)\n",
    "cv.imshow('Median',median)\n",
    "# 가우시안 스무딩은 가우시안 분포를 따르는 커널을 이미지에 적용하여 픽셀의 평균값을 구하는 방식\n",
    "# 메디안 스무딩은 커널 내의 픽셀들을 정렬하여 중간값을 구하는 방식\n",
    "# 가우시안 스무딩은 이미지의 경계선을 흐리게 하고, 세부 정보를 잃을 수 있습니다. 메디안 스무딩은 이미지의 경계선을 보존하고, 세부 정보를 유지할 수 있다.\n",
    "femboss=np.array([[-1.0,0.0,0.0],\n",
    "                  [0.0,0.0,0.0],  # 엠보싱 효과를 위한 필터 커널 femboss 정의\n",
    "                  [0.0,0.0,1.0]])\n",
    "\n",
    "cv.waitKey()\n",
    "cv.destroyAllWindows()"
   ]
  },
  {
   "cell_type": "code",
   "execution_count": null,
   "metadata": {},
   "outputs": [],
   "source": []
  }
 ],
 "metadata": {
  "kernelspec": {
   "display_name": "Python ('cv')",
   "language": "python",
   "name": "python3"
  },
  "language_info": {
   "codemirror_mode": {
    "name": "ipython",
    "version": 3
   },
   "file_extension": ".py",
   "mimetype": "text/x-python",
   "name": "python",
   "nbconvert_exporter": "python",
   "pygments_lexer": "ipython3",
   "version": "3.10.9"
  },
  "orig_nbformat": 4,
  "vscode": {
   "interpreter": {
    "hash": "25a19fbe0a9132dfb9279d48d161753c6352f8f9478c2e74383d340069b907c3"
   }
  }
 },
 "nbformat": 4,
 "nbformat_minor": 2
}
