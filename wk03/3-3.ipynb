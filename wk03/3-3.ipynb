{
 "cells": [
  {
   "cell_type": "code",
   "execution_count": 1,
   "id": "611f4682",
   "metadata": {},
   "outputs": [],
   "source": [
    "import cv2 as cv\n",
    "import sys"
   ]
  },
  {
   "cell_type": "code",
   "execution_count": 2,
   "id": "7de03ffa",
   "metadata": {},
   "outputs": [],
   "source": [
    "img=cv.imread('./soccer.jpg') \n",
    "gray = cv.cvtColor(img, cv.COLOR_BGR2GRAY)"
   ]
  },
  {
   "cell_type": "code",
   "execution_count": 3,
   "id": "a85add18",
   "metadata": {},
   "outputs": [
    {
     "name": "stdout",
     "output_type": "stream",
     "text": [
      "오츄 알고리즘이 찾은 최적 임곗값= 113.0\n"
     ]
    }
   ],
   "source": [
    "t,bin_img=cv.threshold(img[:,:,2],0,255,cv.THRESH_BINARY+cv.THRESH_OTSU)\n",
    "print('오츄 알고리즘이 찾은 최적 임곗값=',t)"
   ]
  },
  {
   "cell_type": "code",
   "execution_count": 4,
   "id": "292c401a",
   "metadata": {},
   "outputs": [
    {
     "name": "stdout",
     "output_type": "stream",
     "text": [
      "오츄 알고리즘이 찾은 최적 임곗값= 119.0\n"
     ]
    }
   ],
   "source": [
    "t,bin_img_gray=cv.threshold(gray,0,255,cv.THRESH_BINARY+cv.THRESH_OTSU)\n",
    "print('오츄 알고리즘이 찾은 최적 임곗값=',t)"
   ]
  },
  {
   "cell_type": "code",
   "execution_count": 5,
   "id": "276329ab",
   "metadata": {},
   "outputs": [],
   "source": [
    "cv.imshow('Color', img)\n",
    "cv.imshow('Color Gray',gray)\n",
    "cv.imshow('Color Gray binarization',bin_img_gray)\n",
    "cv.imshow('R channel',img[:,:,2])\t\t\t# R 채널 영상\n",
    "cv.imshow('R channel binarization',bin_img)\t# R 채널 이진화 영상\n",
    "cv.waitKey()\n",
    "cv.destroyAllWindows()"
   ]
  },
  {
   "cell_type": "code",
   "execution_count": null,
   "id": "95c1d5e7",
   "metadata": {},
   "outputs": [],
   "source": []
  }
 ],
 "metadata": {
  "kernelspec": {
   "display_name": "cv",
   "language": "python",
   "name": "cv"
  },
  "language_info": {
   "codemirror_mode": {
    "name": "ipython",
    "version": 3
   },
   "file_extension": ".py",
   "mimetype": "text/x-python",
   "name": "python",
   "nbconvert_exporter": "python",
   "pygments_lexer": "ipython3",
   "version": "3.10.9"
  }
 },
 "nbformat": 4,
 "nbformat_minor": 5
}
