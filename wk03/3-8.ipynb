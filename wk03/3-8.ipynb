{
 "cells": [
  {
   "cell_type": "code",
   "execution_count": 1,
   "id": "0b192bdc",
   "metadata": {},
   "outputs": [],
   "source": [
    "%matplotlib inline\n",
    "import cv2 as cv"
   ]
  },
  {
   "cell_type": "code",
   "execution_count": 2,
   "id": "b078a1c7",
   "metadata": {},
   "outputs": [],
   "source": [
    "img=cv.imread('rose.png')\n",
    "patch=img[250:350,170:270,:]"
   ]
  },
  {
   "cell_type": "code",
   "execution_count": 3,
   "id": "a5799b5e",
   "metadata": {},
   "outputs": [],
   "source": [
    "img=cv.rectangle(img,(170,250),(270,350),(255,0,0),3)\n",
    "patch1=cv.resize(patch,dsize=(0,0),fx=5,fy=5,interpolation=cv.INTER_NEAREST)\n",
    "patch2=cv.resize(patch,dsize=(0,0),fx=5,fy=5,interpolation=cv.INTER_LINEAR)\n",
    "patch3=cv.resize(patch,dsize=(0,0),fx=5,fy=5,interpolation=cv.INTER_CUBIC)"
   ]
  },
  {
   "cell_type": "code",
   "execution_count": 4,
   "id": "e7a2539d",
   "metadata": {},
   "outputs": [],
   "source": [
    "cv.imshow('Original',img)\n",
    "cv.imshow('Resize nearest',patch1) \n",
    "cv.imshow('Resize bilinear',patch2) \n",
    "cv.imshow('Resize bicubic',patch3) \n",
    "\n",
    "cv.waitKey()\n",
    "cv.destroyAllWindows()"
   ]
  },
  {
   "cell_type": "code",
   "execution_count": null,
   "id": "d57296a5",
   "metadata": {},
   "outputs": [],
   "source": []
  }
 ],
 "metadata": {
  "kernelspec": {
   "display_name": "cv",
   "language": "python",
   "name": "cv"
  },
  "language_info": {
   "codemirror_mode": {
    "name": "ipython",
    "version": 3
   },
   "file_extension": ".py",
   "mimetype": "text/x-python",
   "name": "python",
   "nbconvert_exporter": "python",
   "pygments_lexer": "ipython3",
   "version": "3.10.9"
  }
 },
 "nbformat": 4,
 "nbformat_minor": 5
}
