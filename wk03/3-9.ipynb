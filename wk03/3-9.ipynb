{
 "cells": [
  {
   "cell_type": "code",
   "execution_count": 1,
   "id": "ef52118e",
   "metadata": {},
   "outputs": [],
   "source": [
    "%matplotlib inline\n",
    "import cv2 as cv\n",
    "import numpy as np\n",
    "import time\n",
    "import sys"
   ]
  },
  {
   "cell_type": "code",
   "execution_count": 2,
   "id": "9727e7a6",
   "metadata": {},
   "outputs": [],
   "source": [
    "def my_cvtGray1(bgr_img):\n",
    "    g=np.zeros([bgr_img.shape[0],bgr_img.shape[1]])\n",
    "    for r in range(bgr_img.shape[0]):\n",
    "        for c in range(bgr_img.shape[1]):\n",
    "            g[r,c]=0.114*bgr_img[r,c,0]+0.587*bgr_img[r,c,1]+0.299*bgr_img[r,c,2]\n",
    "    return np.uint8(g)\n",
    "\n",
    "def my_cvtGray2(bgr_img):\n",
    "    g=np.zeros([bgr_img.shape[0],bgr_img.shape[1]])\n",
    "    g=0.114*bgr_img[:,:,0]+0.587*bgr_img[:,:,1]+0.299*bgr_img[:,:,2]\n",
    "    return np.uint8(g)"
   ]
  },
  {
   "cell_type": "code",
   "execution_count": 4,
   "id": "f7e0cb09",
   "metadata": {},
   "outputs": [],
   "source": [
    "file_name = 'girl_laughing.jpg'\n",
    "img=cv.imread(file_name) \n",
    "if img is None:\n",
    "    sys.exit('파일({0})을 찾을 수 없습니다.'.format(file_name))"
   ]
  },
  {
   "cell_type": "code",
   "execution_count": 5,
   "id": "22f43ff5",
   "metadata": {},
   "outputs": [],
   "source": [
    "cv.imshow('Original',img)\n",
    "cv.waitKey()\n",
    "cv.destroyAllWindows()"
   ]
  },
  {
   "cell_type": "code",
   "execution_count": 6,
   "id": "c68e1630",
   "metadata": {},
   "outputs": [
    {
     "name": "stdout",
     "output_type": "stream",
     "text": [
      "My time1: 7.696994304656982\n",
      "My time2: 0.024003028869628906\n",
      "OpenCV time: 0.0009970664978027344\n"
     ]
    }
   ],
   "source": [
    "\n",
    "start=time.time()\n",
    "my_cvtGray1(img)\n",
    "print('My time1:',time.time()-start)\n",
    "\n",
    "start=time.time()\n",
    "my_cvtGray2(img)\n",
    "print('My time2:',time.time()-start)\n",
    "\n",
    "start=time.time()\n",
    "cv.cvtColor(img,cv.COLOR_BGR2GRAY)\n",
    "print('OpenCV time:',time.time()-start)"
   ]
  },
  {
   "cell_type": "code",
   "execution_count": null,
   "id": "5b8a36a6",
   "metadata": {},
   "outputs": [],
   "source": []
  }
 ],
 "metadata": {
  "kernelspec": {
   "display_name": "cv",
   "language": "python",
   "name": "cv"
  },
  "language_info": {
   "codemirror_mode": {
    "name": "ipython",
    "version": 3
   },
   "file_extension": ".py",
   "mimetype": "text/x-python",
   "name": "python",
   "nbconvert_exporter": "python",
   "pygments_lexer": "ipython3",
   "version": "3.10.9"
  }
 },
 "nbformat": 4,
 "nbformat_minor": 5
}
