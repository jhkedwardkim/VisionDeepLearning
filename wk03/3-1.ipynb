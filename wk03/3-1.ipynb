{
 "cells": [
  {
   "cell_type": "code",
   "execution_count": 1,
   "id": "9f6b119e",
   "metadata": {},
   "outputs": [],
   "source": [
    "import cv2 as cv\n",
    "import sys"
   ]
  },
  {
   "cell_type": "code",
   "execution_count": 2,
   "id": "007793a6",
   "metadata": {},
   "outputs": [],
   "source": [
    "file_name = 'soccer.jpg'\n",
    "img=cv.imread(file_name) \n",
    "if img is None:\n",
    "    sys.exit('파일({0})을 찾을 수 없습니다.'.format(file_name))"
   ]
  },
  {
   "cell_type": "code",
   "execution_count": 3,
   "id": "4b54036d",
   "metadata": {},
   "outputs": [],
   "source": [
    "cv.imshow('original_RGB',img)\n",
    "cv.imshow('Upper left half',img[0:img.shape[0]//2,0:img.shape[1]//2,:])\n",
    "cv.imshow('Center half',img[img.shape[0]//4:3*img.shape[0]//4,img.shape[1]//4:3*img.shape[1]//4,:])\n",
    "\n",
    "cv.imshow('R channel',img[:,:,2])\n",
    "cv.imshow('G channel',img[:,:,1])\n",
    "cv.imshow('B channel',img[:,:,0])\n",
    "\n",
    "cv.waitKey()\n",
    "cv.destroyAllWindows()"
   ]
  },
  {
   "cell_type": "code",
   "execution_count": null,
   "id": "c9b73a9f",
   "metadata": {},
   "outputs": [],
   "source": []
  }
 ],
 "metadata": {
  "kernelspec": {
   "display_name": "Python 3.10.6 64-bit",
   "language": "python",
   "name": "python3"
  },
  "language_info": {
   "codemirror_mode": {
    "name": "ipython",
    "version": 3
   },
   "file_extension": ".py",
   "mimetype": "text/x-python",
   "name": "python",
   "nbconvert_exporter": "python",
   "pygments_lexer": "ipython3",
   "version": "3.10.6"
  },
  "vscode": {
   "interpreter": {
    "hash": "369f2c481f4da34e4445cda3fffd2e751bd1c4d706f27375911949ba6bb62e1c"
   }
  }
 },
 "nbformat": 4,
 "nbformat_minor": 5
}
