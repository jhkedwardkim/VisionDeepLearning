{
 "cells": [
  {
   "cell_type": "code",
   "execution_count": 1,
   "id": "a259cea9",
   "metadata": {},
   "outputs": [],
   "source": [
    "%matplotlib inline\n",
    "import cv2 as cv\n",
    "import numpy as np"
   ]
  },
  {
   "cell_type": "code",
   "execution_count": 2,
   "id": "59ca836b",
   "metadata": {},
   "outputs": [],
   "source": [
    "img=cv.imread('soccer.jpg') \n",
    "img=cv.resize(img,dsize=(0,0),fx=0.25,fy=0.25)"
   ]
  },
  {
   "cell_type": "code",
   "execution_count": 3,
   "id": "bb391233",
   "metadata": {},
   "outputs": [],
   "source": [
    "def gamma(f,gamma=1.0):\n",
    "    f1=f/255.0\t\t\t# L=256이라고 가정\n",
    "    return np.uint8(255*(f1**gamma))"
   ]
  },
  {
   "cell_type": "code",
   "execution_count": 6,
   "id": "1eb60af8",
   "metadata": {},
   "outputs": [],
   "source": [
    "gc=np.hstack((gamma(img,0.1), gamma(img,0.5),gamma(img,0.75),gamma(img,1.0),gamma(img,2.0),gamma(img,3.0)))\n",
    "cv.imshow('gamma',gc)\n",
    "\n",
    "cv.waitKey()\n",
    "cv.destroyAllWindows()"
   ]
  },
  {
   "cell_type": "code",
   "execution_count": null,
   "id": "133af83a",
   "metadata": {},
   "outputs": [],
   "source": []
  }
 ],
 "metadata": {
  "kernelspec": {
   "display_name": "cv",
   "language": "python",
   "name": "cv"
  },
  "language_info": {
   "codemirror_mode": {
    "name": "ipython",
    "version": 3
   },
   "file_extension": ".py",
   "mimetype": "text/x-python",
   "name": "python",
   "nbconvert_exporter": "python",
   "pygments_lexer": "ipython3",
   "version": "3.10.9"
  }
 },
 "nbformat": 4,
 "nbformat_minor": 5
}
