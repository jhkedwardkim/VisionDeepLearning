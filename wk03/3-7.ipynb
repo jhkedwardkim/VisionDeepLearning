{
 "cells": [
  {
   "cell_type": "code",
   "execution_count": 1,
   "id": "70e4db3d",
   "metadata": {},
   "outputs": [],
   "source": [
    "%matplotlib inline\n",
    "import cv2 as cv\n",
    "import numpy as np"
   ]
  },
  {
   "cell_type": "code",
   "execution_count": 2,
   "id": "b37562b5",
   "metadata": {},
   "outputs": [],
   "source": [
    "img=cv.imread('soccer.jpg')\n",
    "img=cv.resize(img,dsize=(0,0),fx=0.4,fy=0.4)\n",
    "gray=cv.cvtColor(img,cv.COLOR_BGR2GRAY)\n",
    "cv.putText(gray,'soccer',(10,20),cv.FONT_HERSHEY_SIMPLEX,0.7,(255,255,255),2)\n",
    "cv.imshow('Original',gray)\n",
    "\n",
    "smooth=np.hstack((cv.GaussianBlur(gray,(5,5),0.0),cv.GaussianBlur(gray,(9,9),0.0),cv.GaussianBlur(gray,(15,15),0.0)))\n",
    "cv.imshow('Smooth',smooth)\n",
    "\n",
    "femboss=np.array([[-1.0, 0.0, 0.0],\n",
    "                  [ 0.0, 0.0, 0.0],\n",
    "                  [ 0.0, 0.0, 1.0]])\n",
    "\n",
    "gray16=np.int16(gray)\n",
    "emboss=np.uint8(np.clip(cv.filter2D(gray16,-1,femboss)+128,0,255))\n",
    "emboss_bad=np.uint8(cv.filter2D(gray16,-1,femboss)+128)\n",
    "emboss_worse=cv.filter2D(gray,-1,femboss)\n",
    "\n",
    "cv.imshow('Emboss',emboss)\n",
    "cv.imshow('Emboss_bad',emboss_bad)\n",
    "cv.imshow('Emboss_worse',emboss_worse)\n",
    "\n",
    "cv.waitKey()\n",
    "cv.destroyAllWindows()"
   ]
  },
  {
   "cell_type": "code",
   "execution_count": null,
   "id": "1b5d0109",
   "metadata": {},
   "outputs": [],
   "source": []
  }
 ],
 "metadata": {
  "kernelspec": {
   "display_name": "Python 3",
   "language": "python",
   "name": "python3"
  },
  "language_info": {
   "codemirror_mode": {
    "name": "ipython",
    "version": 3
   },
   "file_extension": ".py",
   "mimetype": "text/x-python",
   "name": "python",
   "nbconvert_exporter": "python",
   "pygments_lexer": "ipython3",
   "version": "3.10.6"
  }
 },
 "nbformat": 4,
 "nbformat_minor": 5
}
